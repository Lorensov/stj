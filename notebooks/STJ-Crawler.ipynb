{
 "cells": [
  {
   "cell_type": "code",
   "execution_count": 2,
   "metadata": {},
   "outputs": [],
   "source": [
    "from selenium import webdriver\n",
    "import selenium.webdriver.support.ui as ui\n",
    "import sys\n",
    "import time\n",
    "import os\n",
    "import re"
   ]
  },
  {
   "cell_type": "code",
   "execution_count": 3,
   "metadata": {},
   "outputs": [],
   "source": [
    "def driver_close():\n",
    "    driver.close()"
   ]
  },
  {
   "cell_type": "code",
   "execution_count": 4,
   "metadata": {},
   "outputs": [
    {
     "data": {
      "text/plain": [
       "'OK'"
      ]
     },
     "execution_count": 4,
     "metadata": {},
     "output_type": "execute_result"
    }
   ],
   "source": [
    "def get_resource(n_processo, path):\n",
    "  link = 'https://ww2.stj.jus.br/processo/pesquisa/'\n",
    "  driver.get(link)\n",
    "  # driver.find_element_by_id('idNumeroProcesso').send_keys(recurso)\n",
    "  driver.find_element_by_id('idNumeroUnico').send_keys(n_processo)\n",
    "  driver.find_element_by_id('idBotaoPesquisarFormularioExtendido').click()\n",
    "  botao = \"idBotaoFormularioExtendidoNovaConsulta\"\n",
    "  #wait.until(lambda driver: len(driver.find_elements_by_id(botao)) > 0)\n",
    "  try:\n",
    "    time.sleep(1)\n",
    "    h = driver.find_element_by_id('idDivAbasConteudo').get_attribute('innerHTML')\n",
    "  except:\n",
    "    return 'erro'\n",
    "  h = h.encode('UTF-8')\n",
    "  if (path != 'NAO'):\n",
    "    f = open(path + '/' + n_processo + '.html', 'w')\n",
    "    f.write(h)\n",
    "    f.close()\n",
    "return 'OK'"
   ]
  },
  {
   "cell_type": "code",
   "execution_count": 6,
   "metadata": {},
   "outputs": [],
   "source": [
    "driver = webdriver.Firefox( executable_path=r'./geckodriver' )\n",
    "wait = ui.WebDriverWait(driver, 20)\n",
    "# time.sleep(3)"
   ]
  },
  {
   "cell_type": "code",
   "execution_count": 8,
   "metadata": {},
   "outputs": [
    {
     "name": "stdout",
     "output_type": "stream",
     "text": [
      "erro\n"
     ]
    }
   ],
   "source": [
    "status = get_resource(555555,'.')\n",
    "print (status)\n",
    "driver_close()"
   ]
  },
  {
   "cell_type": "code",
   "execution_count": null,
   "metadata": {},
   "outputs": [],
   "source": []
  }
 ],
 "metadata": {
  "kernelspec": {
   "display_name": "Python 3",
   "language": "python",
   "name": "python3"
  },
  "language_info": {
   "codemirror_mode": {
    "name": "ipython",
    "version": 3
   },
   "file_extension": ".py",
   "mimetype": "text/x-python",
   "name": "python",
   "nbconvert_exporter": "python",
   "pygments_lexer": "ipython3",
   "version": "3.7.1"
  }
 },
 "nbformat": 4,
 "nbformat_minor": 2
}
